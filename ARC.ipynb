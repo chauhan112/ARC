{
 "cells": [
  {
   "cell_type": "code",
   "execution_count": 6,
   "metadata": {
    "ExecuteTime": {
     "end_time": "2020-07-11T22:00:20.514499Z",
     "start_time": "2020-07-11T22:00:20.192386Z"
    }
   },
   "outputs": [
    {
     "name": "stdout",
     "output_type": "stream",
     "text": [
      "118.287109375 kb\n"
     ]
    }
   ],
   "source": [
    "from LibPath import *\n",
    "exec(runBasic(\"Path\", \"jupyterDB\", \"Database\", \"TreeDB\", \"File\", \"ListDB\"))"
   ]
  },
  {
   "cell_type": "code",
   "execution_count": 49,
   "metadata": {
    "ExecuteTime": {
     "end_time": "2020-07-11T22:33:36.854194Z",
     "start_time": "2020-07-11T22:33:35.166550Z"
    },
    "run_control": {
     "marked": false
    }
   },
   "outputs": [],
   "source": [
    "from data.Data import Data\n",
    "from Utils import  Utils, DescribeUtils"
   ]
  },
  {
   "cell_type": "code",
   "execution_count": 21,
   "metadata": {
    "ExecuteTime": {
     "end_time": "2020-07-09T19:36:44.045398Z",
     "start_time": "2020-07-09T19:36:44.039413Z"
    }
   },
   "outputs": [],
   "source": [
    "exec(File.getFileContent(\"Data.py\"))"
   ]
  },
  {
   "cell_type": "markdown",
   "metadata": {},
   "source": [
    "# <font face='comic sans ms' color ='red'>ARC</font>"
   ]
  },
  {
   "cell_type": "code",
   "execution_count": 51,
   "metadata": {
    "ExecuteTime": {
     "end_time": "2020-07-11T22:33:50.697941Z",
     "start_time": "2020-07-11T22:33:50.562876Z"
    },
    "collapsed": true
   },
   "outputs": [
    {
     "data": {
      "text/markdown": [
       "## <font face='comic sans ms' color ='SeaGreen'>ARC project</font>\n",
       "### <font face='comic sans ms' color ='SeaGreen'>files:</font>\n",
       "<ul><li>ipynb files:<ol><li>visualizing-all-task-pairs-with-gridlines.ipynb</li><li>index.ipynb</li><li>Abstraction and Reasoning.ipynb</li><li>genetic algorithm.ipynb</li><li>ARC.ipynb</li></ol></li><li>py files:<ol><li>utils-for-working-with-cellular-automata.py</li><li>geneticAlgo.py</li><li>Plot.py</li><li>Data.py</li><li>Utils.py</li></ol></li><li>html files:<ol><li>visualizing-all-task-pairs-with-gridlines.html</li></ol></li></ul>\n",
       "\n",
       "### <font face='comic sans ms' color ='SeaGreen'>datasets:</font>\n",
       "<ol><li>evaluation : 400</li><li>test : 100</li><li>training : 400</li></ol>"
      ],
      "text/plain": [
       "<IPython.core.display.Markdown object>"
      ]
     },
     "execution_count": 51,
     "metadata": {},
     "output_type": "execute_result"
    }
   ],
   "source": [
    "projectPath =  \"..\\\\..\\\\..\\\\5. may\\\\activities\\\\Abstract and reasoning\"\n",
    "dataPath = Path.joinPath(projectPath,\"abstraction-and-reasoning-challenge\" )\n",
    "data = Data(dataPath)\n",
    "data.describe()"
   ]
  },
  {
   "cell_type": "code",
   "execution_count": 52,
   "metadata": {
    "ExecuteTime": {
     "end_time": "2020-07-11T22:33:56.836057Z",
     "start_time": "2020-07-11T22:33:56.765445Z"
    },
    "code_folding": [
     6,
     14,
     21,
     29
    ],
    "run_control": {
     "marked": false
    },
    "scrolled": true
   },
   "outputs": [],
   "source": [
    "def oneFile():\n",
    "    import random\n",
    "    return Utils.read(random.choice(data.trainFiles))\n",
    "k = oneFile()\n",
    "\n",
    "\n",
    "class Project:\n",
    "    def __init__():\n",
    "        self.data = Data()\n",
    "    \n",
    "    def openLinks(link):\n",
    "        pass\n",
    "    \n",
    "    \n",
    "def getAllLinesContainingFromImport(contentList):\n",
    "    lines = []\n",
    "    for line in contentList:\n",
    "        if(RegexDB.isThereRegexMatch(RegexDB.lookAheadAndBehind(\"from \", \" import\", \".*\" ),line)):\n",
    "            lines.append(line)\n",
    "    return lines\n",
    "\n",
    "def getImportedClassFromLines(importLines):\n",
    "    clas = []\n",
    "    for line in importLines:\n",
    "        c = line.split(\"import\")[1]\n",
    "        cls = [i.strip() for i in c.split(\",\")]\n",
    "        clas += cls\n",
    "    return clas\n",
    "\n",
    "def classDefinedInPyFile(pyFileContent):\n",
    "    return RegexDB.regexSearch(RegexDB.lookAheadAndBehind(\"class \", \":\\n\", \"[a-zA-Z0-9_\\(\\)]+\"), pyFileContent)\n",
    "\n",
    "def userClassUsed(projectPath = \".\"):\n",
    "    pyFiles = Path.filesWithExtension(\"py\", projectPath)\n",
    "    classes = []\n",
    "    for pyFile in pyFiles:\n",
    "        content = File.getFileContent(pyFile)\n",
    "        classes += classDefinedInPyFile(content)\n",
    "    return classes"
   ]
  },
  {
   "cell_type": "code",
   "execution_count": null,
   "metadata": {},
   "outputs": [],
   "source": []
  },
  {
   "cell_type": "code",
   "execution_count": 55,
   "metadata": {
    "ExecuteTime": {
     "end_time": "2020-07-11T22:35:42.782799Z",
     "start_time": "2020-07-11T22:35:42.768518Z"
    }
   },
   "outputs": [
    {
     "ename": "AttributeError",
     "evalue": "type object 'Utils' has no attribute 'plot_task'",
     "output_type": "error",
     "traceback": [
      "\u001b[1;31m---------------------------------------------------------------------------\u001b[0m",
      "\u001b[1;31mAttributeError\u001b[0m                            Traceback (most recent call last)",
      "\u001b[1;32m<ipython-input-55-00d95677d771>\u001b[0m in \u001b[0;36m<module>\u001b[1;34m\u001b[0m\n\u001b[1;32m----> 1\u001b[1;33m \u001b[0mdata\u001b[0m\u001b[1;33m.\u001b[0m\u001b[0mplot\u001b[0m\u001b[1;33m(\u001b[0m\u001b[0mk\u001b[0m\u001b[1;33m)\u001b[0m\u001b[1;33m\u001b[0m\u001b[1;33m\u001b[0m\u001b[0m\n\u001b[0m",
      "\u001b[1;32m~\\Desktop\\cloud\\timeline\\2020\\7. jul\\activities\\ARC\\data\\Data.py\u001b[0m in \u001b[0;36mplot\u001b[1;34m(self, datas)\u001b[0m\n\u001b[0;32m     44\u001b[0m             \u001b[0mdatas\u001b[0m \u001b[1;33m=\u001b[0m \u001b[1;33m[\u001b[0m\u001b[0mdatas\u001b[0m\u001b[1;33m]\u001b[0m\u001b[1;33m\u001b[0m\u001b[1;33m\u001b[0m\u001b[0m\n\u001b[0;32m     45\u001b[0m         \u001b[1;32mfor\u001b[0m \u001b[0mtask\u001b[0m \u001b[1;32min\u001b[0m \u001b[0mdatas\u001b[0m\u001b[1;33m:\u001b[0m\u001b[1;33m\u001b[0m\u001b[1;33m\u001b[0m\u001b[0m\n\u001b[1;32m---> 46\u001b[1;33m             \u001b[0mUtils\u001b[0m\u001b[1;33m.\u001b[0m\u001b[0mplot_task\u001b[0m\u001b[1;33m(\u001b[0m\u001b[0mtask\u001b[0m\u001b[1;33m)\u001b[0m\u001b[1;33m\u001b[0m\u001b[1;33m\u001b[0m\u001b[0m\n\u001b[0m\u001b[0;32m     47\u001b[0m \u001b[1;33m\u001b[0m\u001b[0m\n\u001b[0;32m     48\u001b[0m     \u001b[1;32mdef\u001b[0m \u001b[0mgetAllFiles\u001b[0m\u001b[1;33m(\u001b[0m\u001b[0mself\u001b[0m\u001b[1;33m)\u001b[0m\u001b[1;33m:\u001b[0m\u001b[1;33m\u001b[0m\u001b[1;33m\u001b[0m\u001b[0m\n",
      "\u001b[1;31mAttributeError\u001b[0m: type object 'Utils' has no attribute 'plot_task'"
     ]
    }
   ],
   "source": [
    "data.plot(k)"
   ]
  },
  {
   "cell_type": "code",
   "execution_count": null,
   "metadata": {},
   "outputs": [],
   "source": []
  },
  {
   "cell_type": "code",
   "execution_count": null,
   "metadata": {},
   "outputs": [],
   "source": []
  },
  {
   "cell_type": "code",
   "execution_count": null,
   "metadata": {},
   "outputs": [],
   "source": []
  },
  {
   "cell_type": "code",
   "execution_count": null,
   "metadata": {},
   "outputs": [],
   "source": []
  },
  {
   "cell_type": "code",
   "execution_count": null,
   "metadata": {},
   "outputs": [],
   "source": [
    "def plotProjectLibsWeb(files):\n",
    "    classesDic = {}\n",
    "    for file in files:\n",
    "        classUsed = File.getFileContent(file)\n",
    "        \n",
    "    "
   ]
  },
  {
   "cell_type": "code",
   "execution_count": null,
   "metadata": {},
   "outputs": [],
   "source": []
  },
  {
   "cell_type": "code",
   "execution_count": null,
   "metadata": {},
   "outputs": [],
   "source": []
  },
  {
   "cell_type": "code",
   "execution_count": null,
   "metadata": {},
   "outputs": [],
   "source": []
  },
  {
   "cell_type": "code",
   "execution_count": null,
   "metadata": {},
   "outputs": [],
   "source": []
  },
  {
   "cell_type": "code",
   "execution_count": null,
   "metadata": {},
   "outputs": [],
   "source": []
  },
  {
   "cell_type": "code",
   "execution_count": 122,
   "metadata": {
    "ExecuteTime": {
     "end_time": "2020-07-09T18:29:40.593975Z",
     "start_time": "2020-07-09T18:29:40.587440Z"
    },
    "run_control": {
     "marked": false
    }
   },
   "outputs": [],
   "source": []
  },
  {
   "cell_type": "code",
   "execution_count": null,
   "metadata": {},
   "outputs": [],
   "source": [
    "TreeDB.py"
   ]
  },
  {
   "cell_type": "code",
   "execution_count": 25,
   "metadata": {
    "ExecuteTime": {
     "end_time": "2020-07-09T19:40:41.167967Z",
     "start_time": "2020-07-09T19:40:41.156995Z"
    }
   },
   "outputs": [
    {
     "ename": "TypeError",
     "evalue": "linksDB() takes 0 positional arguments but 1 was given",
     "output_type": "error",
     "traceback": [
      "\u001b[1;31m---------------------------------------------------------------------------\u001b[0m",
      "\u001b[1;31mTypeError\u001b[0m                                 Traceback (most recent call last)",
      "\u001b[1;32m<ipython-input-25-85c07538ade8>\u001b[0m in \u001b[0;36m<module>\u001b[1;34m\u001b[0m\n\u001b[0;32m      1\u001b[0m \u001b[1;32mfrom\u001b[0m \u001b[0mTreeDB\u001b[0m \u001b[1;32mimport\u001b[0m \u001b[0mTreeDB\u001b[0m\u001b[1;33m\u001b[0m\u001b[1;33m\u001b[0m\u001b[0m\n\u001b[1;32m----> 2\u001b[1;33m \u001b[0mTreeDB\u001b[0m\u001b[1;33m.\u001b[0m\u001b[0mlinksDB\u001b[0m\u001b[1;33m(\u001b[0m\u001b[1;34m\"study\"\u001b[0m\u001b[1;33m)\u001b[0m\u001b[1;33m\u001b[0m\u001b[1;33m\u001b[0m\u001b[0m\n\u001b[0m",
      "\u001b[1;31mTypeError\u001b[0m: linksDB() takes 0 positional arguments but 1 was given"
     ]
    }
   ],
   "source": [
    "from TreeDB import TreeDB\n",
    "TreeDB.linksDB(\"study\")"
   ]
  },
  {
   "cell_type": "markdown",
   "metadata": {},
   "source": [
    "# <font face='comic sans ms' color ='BurlyWood'>path, file, jupyter</font>"
   ]
  },
  {
   "cell_type": "code",
   "execution_count": 124,
   "metadata": {
    "ExecuteTime": {
     "end_time": "2020-07-09T18:30:32.679809Z",
     "start_time": "2020-07-09T18:30:32.651408Z"
    }
   },
   "outputs": [
    {
     "name": "stdout",
     "output_type": "stream",
     "text": [
      "# <font face='comic sans ms' color ='SeaGreen'>headerName</font>\n"
     ]
    }
   ],
   "source": [
    "_ = jupyterDB.header()"
   ]
  },
  {
   "cell_type": "code",
   "execution_count": 7,
   "metadata": {
    "ExecuteTime": {
     "end_time": "2020-07-11T22:00:24.401577Z",
     "start_time": "2020-07-11T22:00:24.144111Z"
    }
   },
   "outputs": [],
   "source": [
    "Path.openExplorerAt()"
   ]
  },
  {
   "cell_type": "code",
   "execution_count": null,
   "metadata": {},
   "outputs": [],
   "source": [
    "Path.openExplorerAt(getPath())"
   ]
  },
  {
   "cell_type": "code",
   "execution_count": 27,
   "metadata": {
    "ExecuteTime": {
     "end_time": "2020-07-09T19:41:09.530616Z",
     "start_time": "2020-07-09T19:41:09.492189Z"
    }
   },
   "outputs": [],
   "source": [
    "jupyterDB.openLib('TreeDB.py')"
   ]
  },
  {
   "cell_type": "code",
   "execution_count": null,
   "metadata": {},
   "outputs": [],
   "source": []
  },
  {
   "cell_type": "code",
   "execution_count": null,
   "metadata": {},
   "outputs": [],
   "source": []
  },
  {
   "cell_type": "code",
   "execution_count": null,
   "metadata": {},
   "outputs": [],
   "source": []
  },
  {
   "cell_type": "code",
   "execution_count": null,
   "metadata": {},
   "outputs": [],
   "source": []
  },
  {
   "cell_type": "code",
   "execution_count": null,
   "metadata": {},
   "outputs": [],
   "source": []
  }
 ],
 "metadata": {
  "kernelspec": {
   "display_name": "Python 3",
   "language": "python",
   "name": "python3"
  },
  "language_info": {
   "codemirror_mode": {
    "name": "ipython",
    "version": 3
   },
   "file_extension": ".py",
   "mimetype": "text/x-python",
   "name": "python",
   "nbconvert_exporter": "python",
   "pygments_lexer": "ipython3",
   "version": "3.7.6"
  },
  "toc": {
   "base_numbering": 1,
   "nav_menu": {},
   "number_sections": true,
   "sideBar": true,
   "skip_h1_title": false,
   "title_cell": "Table of Contents",
   "title_sidebar": "Contents",
   "toc_cell": false,
   "toc_position": {},
   "toc_section_display": true,
   "toc_window_display": false
  },
  "varInspector": {
   "cols": {
    "lenName": 16,
    "lenType": 16,
    "lenVar": 40
   },
   "kernels_config": {
    "python": {
     "delete_cmd_postfix": "",
     "delete_cmd_prefix": "del ",
     "library": "var_list.py",
     "varRefreshCmd": "print(var_dic_list())"
    },
    "r": {
     "delete_cmd_postfix": ") ",
     "delete_cmd_prefix": "rm(",
     "library": "var_list.r",
     "varRefreshCmd": "cat(var_dic_list()) "
    }
   },
   "types_to_exclude": [
    "module",
    "function",
    "builtin_function_or_method",
    "instance",
    "_Feature"
   ],
   "window_display": false
  }
 },
 "nbformat": 4,
 "nbformat_minor": 4
}
